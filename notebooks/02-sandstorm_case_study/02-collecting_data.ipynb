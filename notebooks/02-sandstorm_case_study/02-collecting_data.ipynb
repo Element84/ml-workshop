{
 "cells": [
  {
   "cell_type": "markdown",
   "id": "93063e8c-8ddb-431d-a4fc-8b4bf9b3009d",
   "metadata": {},
   "source": [
    "- gibs screenshot\n",
    "- JS injection\n",
    "- csv\n",
    "- "
   ]
  }
 ],
 "metadata": {
  "kernelspec": {
   "display_name": "Python 3 (ipykernel)",
   "language": "python",
   "name": "python3"
  },
  "language_info": {
   "codemirror_mode": {
    "name": "ipython",
    "version": 3
   },
   "file_extension": ".py",
   "mimetype": "text/x-python",
   "name": "python",
   "nbconvert_exporter": "python",
   "pygments_lexer": "ipython3",
   "version": "3.11.6"
  }
 },
 "nbformat": 4,
 "nbformat_minor": 5
}
