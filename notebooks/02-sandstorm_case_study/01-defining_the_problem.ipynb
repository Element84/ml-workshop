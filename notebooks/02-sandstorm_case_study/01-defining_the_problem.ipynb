{
 "cells": [
  {
   "cell_type": "markdown",
   "id": "a00a30f1-abed-4de3-a8e4-2f9cf7a68e2a",
   "metadata": {},
   "source": [
    "- What do we want to do?\n",
    "- Why?\n",
    "- Do we really need to?\n",
    "    - has it been done before?\n",
    "    - what is lacking in existing solutions?\n",
    "- Can we?\n",
    "    - data\n",
    "    - approach"
   ]
  }
 ],
 "metadata": {
  "kernelspec": {
   "display_name": "Python 3 (ipykernel)",
   "language": "python",
   "name": "python3"
  },
  "language_info": {
   "codemirror_mode": {
    "name": "ipython",
    "version": 3
   },
   "file_extension": ".py",
   "mimetype": "text/x-python",
   "name": "python",
   "nbconvert_exporter": "python",
   "pygments_lexer": "ipython3",
   "version": "3.11.6"
  }
 },
 "nbformat": 4,
 "nbformat_minor": 5
}
