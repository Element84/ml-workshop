{
 "cells": [
  {
   "cell_type": "markdown",
   "id": "8bd20ceb-e0b6-4c57-970e-9fc7cb5ec1a0",
   "metadata": {},
   "source": [
    "Collecting data\n",
    "==="
   ]
  },
  {
   "cell_type": "markdown",
   "id": "73584dca-638b-4d6c-aa82-3e9fe5091181",
   "metadata": {},
   "source": [
    "# Step 1: find dates and locations of sandstorms"
   ]
  },
  {
   "cell_type": "markdown",
   "id": "0bb681d2-55c9-4f77-9803-4ade4832a65d",
   "metadata": {},
   "source": [
    "- Go to [NASA WorldView](https://worldview.earthdata.nasa.gov/?v=42.53496283204216,20.198112059324743,73.78467362462987,34.23809673633836&l=Reference_Labels_15m(hidden),Reference_Features_15m(hidden),Coastlines_15m(hidden),VIIRS_SNPP_CorrectedReflectance_TrueColor&lg=true&t=2022-01-21-T13%3A06%3A55Z)\n",
    "- Paste the below JavaScript into the dev console\n",
    "- Click on some sandstorms"
   ]
  },
  {
   "cell_type": "markdown",
   "id": "ee4556c8-1740-49c4-9543-e541133fae36",
   "metadata": {
    "editable": true,
    "slideshow": {
     "slide_type": ""
    },
    "tags": []
   },
   "source": [
    "```js\n",
    "/**\n",
    " * This JS code modifies the NASA WORLDVIEW webpage\n",
    " * (https://worldview.earthdata.nasa.gov/) to enable logging of timestamps and\n",
    " * coordinates when any point on the map is clicked.\n",
    " * \n",
    " * This is achieved through event listeners. Additionally, clicks on the\n",
    " * sidebar and timeline, as well as long presses and drags, are ignored.\n",
    " * \n",
    " * To use this code, paste it into the web browser's dev console and hit\n",
    " * enter.\n",
    " */\n",
    "\n",
    "const timeline_elem = document.querySelector('div.timeline-container');\n",
    "const sidebar_elem = document.getElementById('wv-sidebar');\n",
    "var is_drag = false;\n",
    "var is_long_press = false;\n",
    "var timeoutId;\n",
    "function handleMouseDown() {\n",
    "\tis_drag = false;\n",
    "\ttimeoutId = setTimeout(function () { is_long_press = true; }, 250);\n",
    "}\n",
    "function handleMouseMove() {\n",
    "\tis_drag = true;\n",
    "}\n",
    "function log_date_coords(event) {\n",
    "\tclearTimeout(timeoutId);\n",
    "\tconst drag_or_long_press = is_drag || is_long_press;\n",
    "\tis_drag = false;\n",
    "\tis_long_press = false;\n",
    "\tif (drag_or_long_press) return;\n",
    "\tif (timeline_elem.contains(event.target)) return;\n",
    "\tif (sidebar_elem.contains(event.target)) return;\n",
    "\tconst coords = document.querySelector('span.map-coord').innerText;\n",
    "\tconst coords_list = coords.split(',');\n",
    "\tconst lat = coords_list[0].trim().substring(0, coords_list[0].length - 1);\n",
    "\tconst lon = coords_list[1].trim().substring(0, coords_list[0].length - 1);\n",
    "\tconst year = document.getElementById('year-timeline').value;\n",
    "\tconst month = document.getElementById('month-timeline').value;\n",
    "\tconst day = document.getElementById('day-timeline').value;\n",
    "\tconst date = `${year}-${month}-${day}`;\n",
    "\tconst msg = `${date},${lat},${lon}`;\n",
    "\tconsole.log(msg);\n",
    "};\n",
    "document.getElementById('wv-content').addEventListener('mouseup', log_date_coords);\n",
    "document.getElementById('wv-content').addEventListener('mousedown', handleMouseDown);\n",
    "document.getElementById('wv-content').addEventListener('mousemove', handleMouseMove);\n",
    "```"
   ]
  },
  {
   "cell_type": "markdown",
   "id": "0f853a4a-fc05-483c-bc33-70f368edea89",
   "metadata": {},
   "source": [
    "# Step 2: download imagery"
   ]
  },
  {
   "cell_type": "code",
   "execution_count": null,
   "id": "4b406086-8921-4575-ae56-ba3f7eccaf8a",
   "metadata": {
    "editable": true,
    "slideshow": {
     "slide_type": ""
    },
    "tags": []
   },
   "outputs": [],
   "source": [
    "from skimage import io\n",
    "from rastervision.core.box import Box\n",
    "\n",
    "\n",
    "def get_img(layer_name: str, date: str | None, bbox: Box, height: int,\n",
    "            width: int, crs: str) -> 'np.ndarray':\n",
    "    bbox_str = ','.join(map(str, bbox))\n",
    "    args = dict(\n",
    "        version='1.3.0',\n",
    "        service='WMS',\n",
    "        request='GetMap',\n",
    "        format='image/png',\n",
    "        STYLE='default',\n",
    "        bbox=bbox_str,\n",
    "        CRS=crs,\n",
    "        HEIGHT=height,\n",
    "        WIDTH=width,\n",
    "        layers=layer_name,\n",
    "    )\n",
    "    if date is not None:\n",
    "        args['TIME'] = date\n",
    "    query_string = '&'.join(f'{k}={v}' for k, v in args.items())\n",
    "    url = f'https://gibs.earthdata.nasa.gov/wms/epsg4326/best/wms.cgi?{query_string}'\n",
    "    arr = io.imread(url)\n",
    "    return arr"
   ]
  },
  {
   "cell_type": "code",
   "execution_count": null,
   "id": "7a74b242-6e92-4577-8228-c1e48452f02d",
   "metadata": {},
   "outputs": [],
   "source": [
    "layer_name = 'VIIRS_SNPP_CorrectedReflectance_TrueColor'\n",
    "bbox = Box(ymin=24, xmin=54, ymax=34, xmax=64)\n",
    "date = '2022-01-21'\n",
    "\n",
    "arr = get_img(\n",
    "    layer_name=layer_name,\n",
    "    date=date,\n",
    "    bbox=bbox,\n",
    "    height=1200,\n",
    "    width=1200,\n",
    "    crs='EPSG:4326',\n",
    ")"
   ]
  },
  {
   "cell_type": "code",
   "execution_count": null,
   "id": "b59623cf-c144-490a-a0ae-8ce362cbfdf5",
   "metadata": {},
   "outputs": [],
   "source": [
    "from matplotlib import pyplot as plt\n",
    "\n",
    "plt.imshow(arr)\n",
    "plt.show()"
   ]
  },
  {
   "cell_type": "code",
   "execution_count": null,
   "id": "04b1cf6b-dafb-478d-a7f2-da0e37416972",
   "metadata": {
    "editable": true,
    "slideshow": {
     "slide_type": ""
    },
    "tags": []
   },
   "outputs": [],
   "source": [
    "from os.path import join\n",
    "from rastervision.pipeline.file_system.utils import make_dir\n",
    "from rastervision.core.data.utils import write_bbox\n",
    "\n",
    "bbox_str = ','.join(map(str, bbox))\n",
    "tiff_path = join('data/gibs/img/', f'{date}_{bbox_str}.tif')\n",
    "make_dir(tiff_path, use_dirname=True)\n",
    "write_bbox(tiff_path, arr, bbox, crs_wkt='epsg:4326')"
   ]
  },
  {
   "cell_type": "markdown",
   "id": "b572cc95-9811-4d74-82dd-2bb9e41d47e3",
   "metadata": {},
   "source": [
    "# Step 3: label data"
   ]
  },
  {
   "cell_type": "markdown",
   "id": "1cbe0b24-be91-4a69-ae34-5bb4d4fa63cc",
   "metadata": {},
   "source": [
    "> Become one with the data\n",
    "\n",
    "― Andrej Karpathy, [_A Recipe for Training Neural Networks_](https://karpathy.github.io/2019/04/25/recipe/)"
   ]
  },
  {
   "cell_type": "markdown",
   "id": "e9ffbf5d-5e7f-431a-a9e4-3f0ee4eca53b",
   "metadata": {},
   "source": [
    "`<demo>`"
   ]
  }
 ],
 "metadata": {
  "kernelspec": {
   "display_name": "Python 3 (ipykernel)",
   "language": "python",
   "name": "python3"
  },
  "language_info": {
   "codemirror_mode": {
    "name": "ipython",
    "version": 3
   },
   "file_extension": ".py",
   "mimetype": "text/x-python",
   "name": "python",
   "nbconvert_exporter": "python",
   "pygments_lexer": "ipython3",
   "version": "3.11.9"
  }
 },
 "nbformat": 4,
 "nbformat_minor": 5
}
