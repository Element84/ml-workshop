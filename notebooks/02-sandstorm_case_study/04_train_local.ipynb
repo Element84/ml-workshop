{
 "cells": [
  {
   "cell_type": "markdown",
   "id": "4abdc658-2518-4abb-8b32-c730bc0f39ce",
   "metadata": {},
   "source": [
    "Training locally\n",
    "===\n",
    "\n",
    "- RV geodatasets, learner, visualizer"
   ]
  },
  {
   "cell_type": "code",
   "execution_count": null,
   "id": "5b0123d5-f636-487e-83c3-f3739d5a62bb",
   "metadata": {},
   "outputs": [],
   "source": [
    "from os.path import join\n",
    "from pathlib import Path\n",
    "\n",
    "from tqdm.auto import tqdm\n",
    "import torch"
   ]
  },
  {
   "cell_type": "code",
   "execution_count": null,
   "id": "d3906c55-a2f9-44a5-8025-d5a5d029ba12",
   "metadata": {},
   "outputs": [],
   "source": [
    "from rastervision.core.data import ClassConfig\n",
    "\n",
    "class_config = ClassConfig(\n",
    "    names=['background', 'dust'],\n",
    "    colors=['lightgray', 'maroon'],\n",
    "    null_class='background',\n",
    ")"
   ]
  },
  {
   "cell_type": "code",
   "execution_count": null,
   "id": "4cbe6c23-100e-4466-ad75-605d8a4beb9f",
   "metadata": {},
   "outputs": [],
   "source": [
    "img_dir = 'data/training/img/VIIRS_SNPP_CorrectedReflectance_TrueColor/'\n",
    "label_dir = 'data/training/labels_geojson/'\n",
    "out_dir = 'data/training_output/2024-05-02/'"
   ]
  },
  {
   "cell_type": "code",
   "execution_count": null,
   "id": "8dba14e9-437e-4ae0-aeed-f36641ec499d",
   "metadata": {},
   "outputs": [],
   "source": [
    "from rastervision.pipeline.file_system.utils import list_paths\n",
    "\n",
    "img_uris = sorted(list_paths(img_dir, ext='.tif'))\n",
    "len(img_uris)"
   ]
  },
  {
   "cell_type": "code",
   "execution_count": null,
   "id": "876d1eb5-fb82-4a22-b418-a483d4eebe52",
   "metadata": {},
   "outputs": [],
   "source": [
    "label_uris = [join(label_dir, f'{Path(uri).stem}.json') for uri in img_uris]"
   ]
  },
  {
   "cell_type": "code",
   "execution_count": null,
   "id": "f857c61e-9929-44ab-8740-db5ed68eb67b",
   "metadata": {
    "editable": true,
    "slideshow": {
     "slide_type": ""
    },
    "tags": []
   },
   "outputs": [],
   "source": [
    "import albumentations as A\n",
    "from rastervision.core.data import ClassInferenceTransformer\n",
    "from rastervision.pytorch_learner import (\n",
    "    SemanticSegmentationRandomWindowGeoDataset,\n",
    "    SemanticSegmentationSlidingWindowGeoDataset)\n",
    "\n",
    "data_augmentation_transform = A.Compose([\n",
    "    A.Flip(),\n",
    "    A.ShiftScaleRotate(),\n",
    "    A.CoarseDropout(max_height=32, max_width=32, max_holes=5)\n",
    "])\n",
    "\n",
    "\n",
    "def make_train_ds(img_uri: str, label_uri: str):\n",
    "    ds = SemanticSegmentationRandomWindowGeoDataset.from_uris(\n",
    "        class_config=class_config,\n",
    "        image_uri=img_uri,\n",
    "        label_vector_uri=label_uri,\n",
    "        label_vector_source_kw=dict(vector_transformers=[\n",
    "            ClassInferenceTransformer(\n",
    "                default_class_id=class_config.get_class_id('background'),\n",
    "                class_config=class_config,\n",
    "                class_name_mapping=dict(\n",
    "                    dust_over_land='dust', dust_over_water='dust'),\n",
    "            )\n",
    "        ]),\n",
    "        size_lims=(512, 513),\n",
    "        out_size=256,\n",
    "        max_windows=16,\n",
    "        padding=0,\n",
    "        transform=data_augmentation_transform,\n",
    "    )\n",
    "    return ds\n",
    "\n",
    "\n",
    "def make_val_ds(img_uri: str, label_uri: str):\n",
    "    ds = SemanticSegmentationSlidingWindowGeoDataset.from_uris(\n",
    "        class_config=class_config,\n",
    "        image_uri=img_uri,\n",
    "        label_vector_uri=label_uri,\n",
    "        label_vector_source_kw=dict(vector_transformers=[\n",
    "            ClassInferenceTransformer(\n",
    "                default_class_id=class_config.get_class_id('background'),\n",
    "                class_config=class_config,\n",
    "                class_name_mapping=dict(\n",
    "                    dust_over_land='dust', dust_over_water='dust'),\n",
    "            )\n",
    "        ]),\n",
    "        size=512,\n",
    "        stride=512,\n",
    "        padding=0,\n",
    "        out_size=256,\n",
    "    )\n",
    "    return ds"
   ]
  },
  {
   "cell_type": "code",
   "execution_count": null,
   "id": "46c05a80-9ce2-438d-9d7a-f7ba439520d3",
   "metadata": {},
   "outputs": [],
   "source": [
    "train_size = 300\n",
    "\n",
    "img_uris_train = img_uris[:train_size]\n",
    "label_uris_train = label_uris[:train_size]\n",
    "\n",
    "img_uris_val = img_uris[train_size:]\n",
    "label_uris_val = label_uris[train_size:]"
   ]
  },
  {
   "cell_type": "code",
   "execution_count": null,
   "id": "2139778a-5aee-4c1c-b053-40d91d7a57b0",
   "metadata": {
    "scrolled": true
   },
   "outputs": [],
   "source": [
    "from torch.utils.data import ConcatDataset\n",
    "\n",
    "with tqdm(zip(img_uris_train, label_uris_train), total=train_size) as bar:\n",
    "    train_dses = [\n",
    "        make_train_ds(img_uri, label_uri) for img_uri, label_uri in bar\n",
    "    ]\n",
    "train_ds = ConcatDataset(train_dses)\n",
    "len(train_ds)"
   ]
  },
  {
   "cell_type": "code",
   "execution_count": null,
   "id": "32c6f096-47ca-49fe-9875-3b43eaa16ed4",
   "metadata": {
    "scrolled": true
   },
   "outputs": [],
   "source": [
    "val_size = len(img_uris_val)\n",
    "with tqdm(zip(img_uris_val, label_uris_val), total=val_size) as bar:\n",
    "    val_dses = [make_val_ds(img_uri, label_uri) for img_uri, label_uri in bar]\n",
    "val_ds = ConcatDataset(val_dses)\n",
    "len(val_ds)"
   ]
  },
  {
   "cell_type": "code",
   "execution_count": null,
   "id": "116495cd-0a52-4a87-b280-f87041e4c14c",
   "metadata": {},
   "outputs": [],
   "source": [
    "from rastervision.pytorch_learner import SemanticSegmentationVisualizer\n",
    "\n",
    "viz = SemanticSegmentationVisualizer(\n",
    "    class_names=class_config.names, class_colors=class_config.colors)"
   ]
  },
  {
   "cell_type": "code",
   "execution_count": null,
   "id": "7b6533c3-9712-44d7-8642-97813e0fc5e5",
   "metadata": {},
   "outputs": [],
   "source": [
    "x, y = viz.get_batch(train_ds, 8, shuffle=True)\n",
    "viz.plot_batch(x, y, show=True)"
   ]
  },
  {
   "cell_type": "markdown",
   "id": "0d20f8b0-29f3-477b-86f4-bf1411b4d9cc",
   "metadata": {},
   "source": [
    "---"
   ]
  },
  {
   "cell_type": "markdown",
   "id": "339bfe0f-5d29-44ec-8199-c1bd31b9686c",
   "metadata": {},
   "source": [
    "- elaborate on pretrained weights, fine-tuning"
   ]
  },
  {
   "cell_type": "code",
   "execution_count": null,
   "id": "06b4b5a6-2a69-41f5-8373-ee4432ebfd08",
   "metadata": {},
   "outputs": [],
   "source": [
    "model = torch.hub.load(\n",
    "    'AdeelH/pytorch-fpn:0.3',\n",
    "    'make_fpn_resnet',\n",
    "    name='resnet18',\n",
    "    fpn_type='panoptic',\n",
    "    num_classes=len(class_config),\n",
    "    fpn_channels=128,\n",
    "    in_channels=3,\n",
    "    out_size=(256, 256),\n",
    "    pretrained=True)"
   ]
  },
  {
   "cell_type": "code",
   "execution_count": null,
   "id": "66ff62fd-18f6-4b3c-a2ac-844fca22a862",
   "metadata": {},
   "outputs": [],
   "source": [
    "from rastervision.pytorch_learner import DataConfig\n",
    "\n",
    "data_cfg = DataConfig(\n",
    "    class_config=class_config,\n",
    "    num_workers=4,  # increase to use multi-processing\n",
    ")"
   ]
  },
  {
   "cell_type": "code",
   "execution_count": null,
   "id": "dc439b93-c699-4ae8-b030-bf1d83052d7c",
   "metadata": {},
   "outputs": [],
   "source": [
    "from rastervision.pytorch_learner import SolverConfig\n",
    "\n",
    "solver_cfg = SolverConfig(\n",
    "    batch_sz=16,\n",
    "    lr=1e-4,\n",
    ")"
   ]
  },
  {
   "cell_type": "code",
   "execution_count": null,
   "id": "cce7ff8e-5552-4d79-8b0d-3ecf3124a433",
   "metadata": {},
   "outputs": [],
   "source": [
    "from rastervision.pytorch_learner import SemanticSegmentationLearnerConfig\n",
    "\n",
    "learner_cfg = SemanticSegmentationLearnerConfig(\n",
    "    data=data_cfg, solver=solver_cfg)"
   ]
  },
  {
   "cell_type": "code",
   "execution_count": null,
   "id": "4c0a3c9d-729a-414d-b4bf-af4d0ebca56d",
   "metadata": {},
   "outputs": [],
   "source": [
    "from rastervision.pytorch_learner import SemanticSegmentationLearner\n",
    "\n",
    "learner = SemanticSegmentationLearner(\n",
    "    cfg=learner_cfg,\n",
    "    output_dir=out_dir,\n",
    "    model=model,\n",
    "    train_ds=train_ds,\n",
    "    valid_ds=val_ds,\n",
    ")\n",
    "learner.log_data_stats()"
   ]
  },
  {
   "cell_type": "code",
   "execution_count": null,
   "id": "48d0218e-2540-4b8d-a007-2715bb995e5a",
   "metadata": {
    "scrolled": true
   },
   "outputs": [],
   "source": [
    "learner.train(epochs=5)"
   ]
  },
  {
   "cell_type": "code",
   "execution_count": null,
   "id": "c7934140-c795-4cef-a664-1b95aaad99e1",
   "metadata": {},
   "outputs": [],
   "source": [
    "learner.save_model_bundle()"
   ]
  },
  {
   "cell_type": "markdown",
   "id": "31922a53-2639-4254-a99b-c030fba8b85d",
   "metadata": {},
   "source": [
    "---"
   ]
  },
  {
   "cell_type": "code",
   "execution_count": null,
   "id": "8870da4f-d7ee-4ab3-81ad-c595e119a019",
   "metadata": {},
   "outputs": [],
   "source": [
    "preds = learner.predict_dataloader(\n",
    "    learner.valid_dl, return_format='xyz', batched_output=True, raw_out=True)"
   ]
  },
  {
   "cell_type": "code",
   "execution_count": null,
   "id": "4d472db0-8a9e-4662-ba07-42d7464d99d6",
   "metadata": {},
   "outputs": [],
   "source": [
    "for _ in range(4):\n",
    "    x, y, z = next(preds)\n",
    "    learner.visualizer.plot_batch(x, y, output_path=None, z=z, show=True)"
   ]
  }
 ],
 "metadata": {
  "kernelspec": {
   "display_name": "Python 3 (ipykernel)",
   "language": "python",
   "name": "python3"
  },
  "language_info": {
   "codemirror_mode": {
    "name": "ipython",
    "version": 3
   },
   "file_extension": ".py",
   "mimetype": "text/x-python",
   "name": "python",
   "nbconvert_exporter": "python",
   "pygments_lexer": "ipython3",
   "version": "3.11.9"
  }
 },
 "nbformat": 4,
 "nbformat_minor": 5
}
