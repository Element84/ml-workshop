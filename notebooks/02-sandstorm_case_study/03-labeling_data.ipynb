{
 "cells": [
  {
   "cell_type": "markdown",
   "id": "942ccac1-092e-4c43-a504-1097631f586e",
   "metadata": {},
   "source": [
    "Labeling data\n",
    "==="
   ]
  },
  {
   "cell_type": "markdown",
   "id": "16c2f935-bade-4b23-b04e-afa9397cb7c4",
   "metadata": {},
   "source": [
    "> Become one with the data\n",
    "\n",
    "--Andrej Karpathy, [_A Recipe for Training Neural Networks_](https://karpathy.github.io/2019/04/25/recipe/)"
   ]
  },
  {
   "cell_type": "code",
   "execution_count": null,
   "id": "3881caae-3f41-4272-a9af-7fa7db57155b",
   "metadata": {},
   "outputs": [],
   "source": []
  }
 ],
 "metadata": {
  "kernelspec": {
   "display_name": "Python 3 (ipykernel)",
   "language": "python",
   "name": "python3"
  },
  "language_info": {
   "codemirror_mode": {
    "name": "ipython",
    "version": 3
   },
   "file_extension": ".py",
   "mimetype": "text/x-python",
   "name": "python",
   "nbconvert_exporter": "python",
   "pygments_lexer": "ipython3",
   "version": "3.11.6"
  }
 },
 "nbformat": 4,
 "nbformat_minor": 5
}
