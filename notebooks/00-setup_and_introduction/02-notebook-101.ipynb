{
 "cells": [
  {
   "cell_type": "markdown",
   "id": "d2f0f02e-274e-4a24-904e-67011e2adca7",
   "metadata": {},
   "source": [
    "# Jupyter notebook 101"
   ]
  },
  {
   "cell_type": "code",
   "execution_count": null,
   "id": "402d80e1",
   "metadata": {},
   "outputs": [],
   "source": [
    "'hello, world'"
   ]
  },
  {
   "cell_type": "code",
   "execution_count": null,
   "id": "38cdaf46-f616-468d-b298-bad1881b1acd",
   "metadata": {},
   "outputs": [],
   "source": [
    "1 + 1"
   ]
  },
  {
   "cell_type": "markdown",
   "id": "377a0e49-3eba-4e67-9a61-fcd78570bbd8",
   "metadata": {},
   "source": [
    "- `CTRL/CMD + Enter` - run current cell\n",
    "- `Shift + Enter` - run current cell and move to next cell"
   ]
  },
  {
   "cell_type": "markdown",
   "id": "c3e278cc-8773-4547-810c-87d8763ac79f",
   "metadata": {},
   "source": [
    "## Command (cell) mode"
   ]
  },
  {
   "cell_type": "markdown",
   "id": "4c371ff5-f555-4c0d-81a4-a900c4f582ce",
   "metadata": {},
   "source": [
    "- `Escape` - enter command mode\n",
    "- `b` - insert cell below\n",
    "- `a` - insert cell above\n",
    "- `c` - copy cell\n",
    "- `v` - paste\n",
    "- `d`, `d` - delete cell\n",
    "- `z` - undo cell operation\n",
    "- `m` - change cell to markdown\n",
    "- `y` - change cell to code"
   ]
  }
 ],
 "metadata": {
  "kernelspec": {
   "display_name": "Python 3 (ipykernel)",
   "language": "python",
   "name": "python3"
  },
  "language_info": {
   "codemirror_mode": {
    "name": "ipython",
    "version": 3
   },
   "file_extension": ".py",
   "mimetype": "text/x-python",
   "name": "python",
   "nbconvert_exporter": "python",
   "pygments_lexer": "ipython3",
   "version": "3.11.9"
  }
 },
 "nbformat": 4,
 "nbformat_minor": 5
}
