{
 "cells": [
  {
   "cell_type": "markdown",
   "id": "d2f0f02e-274e-4a24-904e-67011e2adca7",
   "metadata": {},
   "source": [
    "# Connect to Jupyer Lab server on EC2"
   ]
  },
  {
   "cell_type": "markdown",
   "id": "fd8860cf-f076-4d08-8d2a-98c1965b2500",
   "metadata": {},
   "source": [
    "1. You should have received\n",
    "    - an address of the form `ubuntu@abc.amazonaws.com` for you EC2 instance.\n",
    "    - an `ml-workshop.pem` file\n",
    "    - a password to the Jupyter Lab server"
   ]
  },
  {
   "cell_type": "markdown",
   "id": "e7d4088e-fe26-483e-954d-35663411b843",
   "metadata": {},
   "source": [
    "2. In a terminal on your machine, run the command below, **replacing the addresss**:\n",
    "\n",
    "```sh\n",
    "ssh -i ~/ml-workshop.pem -N -f -L 8888:localhost:8888 ubuntu@abc.amazonaws.com\n",
    "```"
   ]
  },
  {
   "cell_type": "markdown",
   "id": "e63ef4d6-dd4a-4b83-9231-f2db1dfbf5a6",
   "metadata": {},
   "source": [
    "3. In a browser on your machine, navigate to https://localhost:8888/. If your browser warns about an unsecure connection, ignore it and click \"proceed\"."
   ]
  },
  {
   "cell_type": "markdown",
   "id": "e3a28def-d4be-4f15-b339-d6efbff15614",
   "metadata": {},
   "source": [
    "4. Enter the password at the Jupyter Lab login screen."
   ]
  }
 ],
 "metadata": {
  "kernelspec": {
   "display_name": "Python 3 (ipykernel)",
   "language": "python",
   "name": "python3"
  },
  "language_info": {
   "codemirror_mode": {
    "name": "ipython",
    "version": 3
   },
   "file_extension": ".py",
   "mimetype": "text/x-python",
   "name": "python",
   "nbconvert_exporter": "python",
   "pygments_lexer": "ipython3",
   "version": "3.11.9"
  }
 },
 "nbformat": 4,
 "nbformat_minor": 5
}
