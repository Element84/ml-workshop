{
 "cells": [
  {
   "cell_type": "markdown",
   "id": "232a529a-4749-4f02-9a34-5d19334b7493",
   "metadata": {},
   "source": [
    "Working with real-world data: change detection with Sentinel-2 imagery\n",
    "===\n",
    "\n",
    "- STAC\n",
    "- Sentinel-2\n",
    "- Shapely\n",
    "- Raster Vision CLI\n",
    "- AWS SageMaker"
   ]
  },
  {
   "cell_type": "markdown",
   "id": "d99cf1dc-3a8b-4879-8a0e-9c06c8751007",
   "metadata": {},
   "source": [
    "---"
   ]
  },
  {
   "cell_type": "markdown",
   "id": "2ec23802-239c-4d36-ac60-5d4382e8648c",
   "metadata": {},
   "source": [
    "# Setup"
   ]
  },
  {
   "cell_type": "code",
   "execution_count": null,
   "id": "65d15225-90e4-4087-b8b2-057e009f9a64",
   "metadata": {},
   "outputs": [],
   "source": [
    "%env AWS_ACCESS_KEY_ID=\n",
    "%env AWS_SECRET_ACCESS_KEY=\n",
    "%env AWS_SESSION_TOKEN="
   ]
  },
  {
   "cell_type": "code",
   "execution_count": null,
   "id": "295b2d68-80f4-4bd9-86ef-8073e5ab1ca9",
   "metadata": {
    "scrolled": true
   },
   "outputs": [],
   "source": [
    "%pip install -q contextily"
   ]
  },
  {
   "cell_type": "markdown",
   "id": "3474f0d2-0e9c-4fb9-8461-ec30da67b46c",
   "metadata": {},
   "source": [
    "---"
   ]
  },
  {
   "cell_type": "markdown",
   "id": "7101239e-cff5-4bbe-a276-0ae42062eeb8",
   "metadata": {},
   "source": [
    "# Using a STAC API"
   ]
  },
  {
   "cell_type": "markdown",
   "id": "4f564b2c-e6c2-4f00-83f0-4228e7183c58",
   "metadata": {},
   "source": [
    "- Why theses specific bands?\n",
    "- https://element84.com/machine-learning/change-detection-with-raster-vision/"
   ]
  },
  {
   "cell_type": "code",
   "execution_count": null,
   "id": "f61a0c0e-ef88-46f8-aeaf-93406da7f22d",
   "metadata": {},
   "outputs": [],
   "source": [
    "from os.path import join"
   ]
  },
  {
   "cell_type": "code",
   "execution_count": null,
   "id": "845a3786-89eb-4af0-94f5-0b7ea4ee7b83",
   "metadata": {},
   "outputs": [],
   "source": [
    "BANDS = [\n",
    "    'coastal',  # B01\n",
    "    'blue',  # B02\n",
    "    'green',  # B03\n",
    "    'red',  # B04\n",
    "    'rededge1',  # B05\n",
    "    'rededge2',  # B06\n",
    "    'rededge3',  # B07\n",
    "    'nir',  # B08\n",
    "    'nir09',  # B09\n",
    "    'swir16',  # B11\n",
    "    'swir22',  # B12\n",
    "    'nir08',  # B8A\n",
    "]"
   ]
  },
  {
   "cell_type": "code",
   "execution_count": null,
   "id": "771dfaa6-4d34-4b9e-abd1-11086daead6d",
   "metadata": {},
   "outputs": [],
   "source": [
    "model_bundle_uri = 's3://azavea-research-public-data/raster-vision/examples/s2-change-detection/model-bundle.zip'\n",
    "stats_uri = 's3://azavea-research-public-data/raster-vision/examples/s2-change-detection/stats.json'"
   ]
  },
  {
   "cell_type": "code",
   "execution_count": null,
   "id": "47bee7fa-b3bf-4cc0-a54d-3275b6c4cafb",
   "metadata": {},
   "outputs": [],
   "source": [
    "out_dir = 's3://raster-vision-ahassan/ml-workshop/2024_05/dev/s2_change_detection/'"
   ]
  },
  {
   "cell_type": "code",
   "execution_count": null,
   "id": "1e089662-fd98-4c04-936a-5bb99e017255",
   "metadata": {},
   "outputs": [],
   "source": [
    "# out_dir = 'data/s2_change_detection/'"
   ]
  },
  {
   "cell_type": "code",
   "execution_count": null,
   "id": "c2a02f18-e712-4167-a249-1b8a2942378a",
   "metadata": {},
   "outputs": [],
   "source": [
    "39.953203, -75.184156\n",
    "39.914452, -75.136232"
   ]
  },
  {
   "cell_type": "code",
   "execution_count": null,
   "id": "a6bd02c7-b7a0-42fd-85db-5f1788753fa1",
   "metadata": {},
   "outputs": [],
   "source": [
    "from rastervision.core.box import Box\n",
    "\n",
    "bbox = Box(ymin=39.953203, xmin=-75.184156, ymax=39.914452, xmax=-75.136232)\n",
    "bbox"
   ]
  },
  {
   "cell_type": "code",
   "execution_count": null,
   "id": "f2d3502d-9e30-44ff-bc29-52c75325d76a",
   "metadata": {},
   "outputs": [],
   "source": [
    "bbox_polygon = bbox.to_shapely().oriented_envelope\n",
    "bbox_polygon"
   ]
  },
  {
   "cell_type": "code",
   "execution_count": null,
   "id": "436a8e22-6e91-476c-9449-8279b8fc9bcf",
   "metadata": {},
   "outputs": [],
   "source": [
    "from shapely.geometry import mapping\n",
    "\n",
    "search_geometry = mapping(bbox_polygon)\n",
    "search_geometry"
   ]
  },
  {
   "cell_type": "code",
   "execution_count": null,
   "id": "b17bb807-731d-4e5a-97e8-0345a8969bc6",
   "metadata": {},
   "outputs": [],
   "source": [
    "import pystac_client\n",
    "\n",
    "catalog = pystac_client.Client.open('https://earth-search.aws.element84.com/v1')\n",
    "\n",
    "item_old = catalog.search(\n",
    "    intersects=search_geometry,\n",
    "    datetime='2019-09-18',\n",
    "    collections=['sentinel-2-l2a'],\n",
    "    query={'eo:cloud_cover': {\n",
    "        'lt': 5\n",
    "    }},\n",
    ").item_collection()[-1]\n",
    "\n",
    "item_new = catalog.search(\n",
    "    intersects=search_geometry,\n",
    "    datetime='2023-09-12',\n",
    "    collections=['sentinel-2-l2a'],\n",
    "    query={'eo:cloud_cover': {\n",
    "        'lt': 5\n",
    "    }},\n",
    ").item_collection()[-1]"
   ]
  },
  {
   "cell_type": "code",
   "execution_count": null,
   "id": "896762d4-51d6-403b-b139-032a8f0e1357",
   "metadata": {},
   "outputs": [],
   "source": [
    "item_old"
   ]
  },
  {
   "cell_type": "code",
   "execution_count": null,
   "id": "4ed6a2bf-03df-4192-9c6e-76879b26b691",
   "metadata": {},
   "outputs": [],
   "source": [
    "import contextily as cx\n",
    "from matplotlib import pyplot as plt\n",
    "from matplotlib import patches"
   ]
  },
  {
   "cell_type": "code",
   "execution_count": null,
   "id": "f85514b9-6aa4-4ad6-92fe-dc6b3b61606b",
   "metadata": {},
   "outputs": [],
   "source": [
    "fig, ax = plt.subplots(figsize=(6, 6))\n",
    "\n",
    "bbox_geometry = patches.Polygon(bbox.to_points(), color='r', fill=False)\n",
    "ax.add_patch(bbox_geometry)\n",
    "\n",
    "# item_old_geometry = patches.Polygon(item_old.geometry['coordinates'][0], color='k', fill=False)\n",
    "# ax.add_patch(item_old_geometry)\n",
    "\n",
    "# item_new_geometry = patches.Polygon(item_new.geometry['coordinates'][0], color='steelblue', fill=False)\n",
    "# ax.add_patch(item_new_geometry)\n",
    "\n",
    "ax.autoscale()\n",
    "ax.set_xlabel('longitude')\n",
    "ax.set_ylabel('latitude')\n",
    "cx.add_basemap(ax, crs='epsg:4326', source=cx.providers.CartoDB.Voyager)\n",
    "plt.show()"
   ]
  },
  {
   "cell_type": "code",
   "execution_count": null,
   "id": "e27d771a-10a9-43e4-9203-16330a472392",
   "metadata": {},
   "outputs": [],
   "source": [
    "from rastervision.pipeline.file_system.utils import json_to_file\n",
    "\n",
    "item_uri_old = join(out_dir, 'stac-item-t1.json')\n",
    "json_to_file(item_old.to_dict(), item_uri_old)\n",
    "\n",
    "item_uri_new = join(out_dir, 'stac-item-t2.json')\n",
    "json_to_file(item_new.to_dict(), item_uri_new)"
   ]
  },
  {
   "cell_type": "code",
   "execution_count": null,
   "id": "fc210b1b-0262-42ad-8a2e-ef0146d80283",
   "metadata": {},
   "outputs": [],
   "source": [
    "from rastervision.core.data import (\n",
    "    STACItemConfig, StatsTransformerConfig, XarraySourceConfig)\n",
    "\n",
    "raster_source_old_config = XarraySourceConfig(\n",
    "    stac=STACItemConfig(uri=item_uri_old, assets=BANDS),\n",
    "    channel_order=[0, 1, 2, 3, 4, 5, 6, 7, 8, 9, 10, 10, 11],\n",
    "    stackstac_args=dict(rescale=False, fill_value=0, dtype='uint16'),\n",
    "    transformers=[StatsTransformerConfig(stats_uri=stats_uri)],\n",
    "    bbox_map_coords=tuple(bbox),\n",
    "    allow_streaming=False,\n",
    ")"
   ]
  },
  {
   "cell_type": "code",
   "execution_count": null,
   "id": "46bd9b8c-4996-464f-af0a-8a41e6d2282c",
   "metadata": {},
   "outputs": [],
   "source": [
    "raster_source_new_config = XarraySourceConfig(\n",
    "    stac=STACItemConfig(uri=item_uri_new, assets=BANDS),\n",
    "    channel_order=[0, 1, 2, 3, 4, 5, 6, 7, 8, 9, 10, 10, 11],\n",
    "    stackstac_args=dict(rescale=False, fill_value=0, dtype='uint16'),\n",
    "    transformers=[StatsTransformerConfig(stats_uri=stats_uri)],\n",
    "    bbox_map_coords=tuple(bbox),\n",
    "    allow_streaming=False,\n",
    ")"
   ]
  },
  {
   "cell_type": "code",
   "execution_count": null,
   "id": "0377b504-b63f-417a-bac5-d165180f35ae",
   "metadata": {},
   "outputs": [],
   "source": [
    "from rastervision.core.data import MultiRasterSourceConfig\n",
    "\n",
    "raster_source_config = MultiRasterSourceConfig(\n",
    "    raster_sources=[raster_source_old_config, raster_source_new_config])"
   ]
  },
  {
   "cell_type": "code",
   "execution_count": null,
   "id": "d6aa3c5f-0be0-4ff5-917e-55c3db2a1f13",
   "metadata": {},
   "outputs": [],
   "source": [
    "from rastervision.core.data import (\n",
    "    SemanticSegmentationLabelStoreConfig, PolygonVectorOutputConfig)\n",
    "\n",
    "label_store_config = SemanticSegmentationLabelStoreConfig(\n",
    "    uri=out_dir, \n",
    "    smooth_output=True,\n",
    "    vector_output=[\n",
    "        PolygonVectorOutputConfig(\n",
    "            # class ID of the \"change\" class\n",
    "            class_id=1,\n",
    "            # threshold to use for creating binary mask that will then be vectorized\n",
    "            threshold=0.35,\n",
    "            # filter out positive regions in the binary mask smaller than\n",
    "            # this diameter (in pixels)\n",
    "            denoise=8,\n",
    "        ),\n",
    "    ],\n",
    ")"
   ]
  },
  {
   "cell_type": "code",
   "execution_count": null,
   "id": "89e4a02b-3d45-4c4f-88ba-352c3ead560a",
   "metadata": {},
   "outputs": [],
   "source": [
    "from rastervision.core.data.utils import geoms_to_geojson\n",
    "from shapely.geometry import shape\n",
    "\n",
    "aoi_geom = shape(item_old.geometry).intersection(shape(item_new.geometry))\n",
    "aoi_geojson = geoms_to_geojson([aoi_geom])\n",
    "aoi_uri = join(out_dir, 'aoi.json')\n",
    "json_to_file(aoi_geojson, aoi_uri)"
   ]
  },
  {
   "cell_type": "code",
   "execution_count": null,
   "id": "08e5d78d-5f55-41a1-a9d3-fa16ca525c7b",
   "metadata": {},
   "outputs": [],
   "source": [
    "from rastervision.core.data import SceneConfig\n",
    "\n",
    "scene_config = SceneConfig(\n",
    "    id='',\n",
    "    raster_source=raster_source_config,\n",
    "    label_store=label_store_config,\n",
    "    aoi_uris=[aoi_uri],\n",
    ")"
   ]
  },
  {
   "cell_type": "code",
   "execution_count": null,
   "id": "49576c68-1e75-48e8-a8ec-0e00e3098b40",
   "metadata": {},
   "outputs": [],
   "source": [
    "from rastervision.core.rv_pipeline import SemanticSegmentationPredictOptions\n",
    "\n",
    "pred_opts = SemanticSegmentationPredictOptions(\n",
    "    chip_sz=100, stride=50, crop_sz='auto')"
   ]
  },
  {
   "cell_type": "code",
   "execution_count": null,
   "id": "adac61ab-c453-41a6-ad69-80b5f3ca787f",
   "metadata": {},
   "outputs": [],
   "source": [
    "scene_config_uri = join(out_dir, 'scene-config.json')\n",
    "scene_config.to_file(scene_config_uri)\n",
    "\n",
    "pred_opts_uri = join(out_dir, 'pred-opts.json')\n",
    "pred_opts.to_file(pred_opts_uri)"
   ]
  },
  {
   "cell_type": "code",
   "execution_count": null,
   "id": "de5b987f-7f87-456c-97e7-7fc6bcdd1efd",
   "metadata": {},
   "outputs": [],
   "source": [
    "!rastervision predict_scene {model_bundle_uri} {scene_config_uri} --predict_options_uri {pred_opts_uri}"
   ]
  },
  {
   "cell_type": "markdown",
   "id": "c8e3138b-892c-47c3-affa-238a6d041153",
   "metadata": {},
   "source": [
    "---"
   ]
  },
  {
   "cell_type": "markdown",
   "id": "413f95a1-0f70-43cc-bd23-70569bb4a6b2",
   "metadata": {},
   "source": [
    "## AWS SageMaker"
   ]
  },
  {
   "cell_type": "code",
   "execution_count": null,
   "id": "61582d76-407a-4b9f-9ddb-a0fe07e88182",
   "metadata": {},
   "outputs": [],
   "source": [
    "from rastervision.aws_sagemaker import AWSSageMakerRunner\n",
    "\n",
    "runner = AWSSageMakerRunner()"
   ]
  },
  {
   "cell_type": "code",
   "execution_count": null,
   "id": "4e795f8d-a90a-4cb7-8ae1-a130c02ffb4a",
   "metadata": {},
   "outputs": [],
   "source": [
    "runner.run_command(\n",
    "    cmd=['rastervision', 'predict_scene', model_bundle_uri, scene_config_uri, '--predict_options_uri', pred_opts_uri],\n",
    "    role='AmazonSageMakerExecutionRole',\n",
    "    image_uri='279682201306.dkr.ecr.us-east-1.amazonaws.com/raster-vision-ahassan',\n",
    "    instance_type='ml.p3.2xlarge',\n",
    "    job_name='ml-workshop-s2-change-detection',\n",
    ")"
   ]
  },
  {
   "cell_type": "code",
   "execution_count": null,
   "id": "5fbabf8a-7709-4889-b3c3-5da07ecb5d8b",
   "metadata": {},
   "outputs": [],
   "source": [
    "!aws s3 ls {out_dir}"
   ]
  }
 ],
 "metadata": {
  "kernelspec": {
   "display_name": "Python 3 (ipykernel)",
   "language": "python",
   "name": "python3"
  },
  "language_info": {
   "codemirror_mode": {
    "name": "ipython",
    "version": 3
   },
   "file_extension": ".py",
   "mimetype": "text/x-python",
   "name": "python",
   "nbconvert_exporter": "python",
   "pygments_lexer": "ipython3",
   "version": "3.11.6"
  }
 },
 "nbformat": 4,
 "nbformat_minor": 5
}
